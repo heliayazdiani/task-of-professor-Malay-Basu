{
  "nbformat": 4,
  "nbformat_minor": 0,
  "metadata": {
    "colab": {
      "provenance": []
    },
    "kernelspec": {
      "name": "python3",
      "display_name": "Python 3"
    },
    "language_info": {
      "name": "python"
    }
  },
  "cells": [
    {
      "cell_type": "code",
      "execution_count": 2,
      "metadata": {
        "colab": {
          "base_uri": "https://localhost:8080/"
        },
        "id": "0XH-qC47vd_d",
        "outputId": "9a7ecdc8-3e07-4301-9137-c06f35799851"
      },
      "outputs": [
        {
          "output_type": "stream",
          "name": "stdout",
          "text": [
            "Mounted at /content/drive\n"
          ]
        }
      ],
      "source": [
        "from google.colab import drive\n",
        "drive.mount('/content/drive')"
      ]
    },
    {
      "cell_type": "code",
      "source": [
        "input_gz_file = '/content/drive/My Drive/hiring_task/Homo_sapiens.gene_info.gz'"
      ],
      "metadata": {
        "id": "MkjOGQ99vmIt"
      },
      "execution_count": 10,
      "outputs": []
    },
    {
      "cell_type": "code",
      "source": [
        "import gzip\n",
        "\n",
        "gene_info_map = {}\n",
        "\n",
        "with gzip.open(input_gz_file, \"rt\") as f:\n",
        "    for line in f:\n",
        "\n",
        "        columns = line.strip().split(\"\\t\")\n",
        "        gene_id = columns[1]\n",
        "        symbol = columns[2]\n",
        "        synonyms = columns[4].split(\"|\") if columns[4] else []\n",
        "\n",
        "\n",
        "        gene_info_map[symbol] = gene_id\n",
        "        for synonym in synonyms:\n",
        "            gene_info_map[synonym] = gene_id\n",
        "\n",
        "\n",
        "print(gene_info_map)"
      ],
      "metadata": {
        "colab": {
          "base_uri": "https://localhost:8080/"
        },
        "id": "e7M4_RuAwOp2",
        "outputId": "41206512-a88a-4c46-fe7e-4ddb0aeced50"
      },
      "execution_count": 11,
      "outputs": [
        {
          "output_type": "stream",
          "name": "stderr",
          "text": [
            "IOPub data rate exceeded.\n",
            "The notebook server will temporarily stop sending output\n",
            "to the client in order to avoid crashing it.\n",
            "To change this limit, set the config variable\n",
            "`--NotebookApp.iopub_data_rate_limit`.\n",
            "\n",
            "Current values:\n",
            "NotebookApp.iopub_data_rate_limit=1000000.0 (bytes/sec)\n",
            "NotebookApp.rate_limit_window=3.0 (secs)\n",
            "\n"
          ]
        }
      ]
    },
    {
      "cell_type": "code",
      "source": [
        "gene_info_map = {\n",
        "    \"GENE1\": \"ID1\",\n",
        "    \"GENE2\": \"ID2\",\n",
        "    # و غیره\n",
        "}\n",
        "\n",
        "gmt_file = \"/content/drive/My Drive/hiring_task/h.all.v2023.1.Hs.symbols.gmt\"\n",
        "\n",
        "output_gmt_file = \"/content/drive/My Drive/hiring_task/output.gmt\"\n",
        "\n",
        "with open(gmt_file, \"r\") as f:\n",
        "    with open(output_gmt_file, \"w\") as output_file:\n",
        "        for line in f:\n",
        "            columns = line.strip().split(\"\\t\")\n",
        "\n",
        "            gene_names = columns[2:]\n",
        "\n",
        "            entrez_ids = [gene_info_map.get(gene_name, gene_name) for gene_name in gene_names]\n",
        "\n",
        "            new_line = \"\\t\".join(columns[:2] + entrez_ids)\n",
        "\n",
        "            output_file.write(new_line + \"\\n\")\n"
      ],
      "metadata": {
        "id": "UCjPp-ID0546"
      },
      "execution_count": 14,
      "outputs": []
    },
    {
      "cell_type": "code",
      "source": [],
      "metadata": {
        "id": "RFi3vFEb1oCO"
      },
      "execution_count": null,
      "outputs": []
    }
  ]
}